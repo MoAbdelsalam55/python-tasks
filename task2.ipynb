{
 "cells": [
  {
   "cell_type": "code",
   "execution_count": 1,
   "id": "8d995efa",
   "metadata": {},
   "outputs": [
    {
     "name": "stdout",
     "output_type": "stream",
     "text": [
      "['1505', '1540', '1575', '1610', '1645', '1680', '1715', '1750', '1785', '1820', '1855', '1890', '1925', '1960', '1995', '2030', '2065', '2100', '2135', '2170', '2205', '2240', '2275', '2310', '2345', '2380', '2415', '2450', '2485', '2520', '2555', '2590', '2625', '2660', '2695']\n"
     ]
    }
   ],
   "source": [
    "list=[]\n",
    "for x in range(1500,2700):\n",
    "    if x%5==0 and x%7==0 :\n",
    "        list.append(str(x))\n",
    "print (list)\n",
    "        \n"
   ]
  },
  {
   "cell_type": "code",
   "execution_count": null,
   "id": "c7283a18",
   "metadata": {},
   "outputs": [],
   "source": []
  },
  {
   "cell_type": "code",
   "execution_count": 6,
   "id": "7028eb23",
   "metadata": {},
   "outputs": [
    {
     "name": "stdout",
     "output_type": "stream",
     "text": [
      "Enter the temperature: 55\n",
      "Enter unit('C' for Celsius and 'F' for Fahrenheit): f\n",
      "Temperature in celsuis=  12.777777777777777\n"
     ]
    }
   ],
   "source": [
    "temp = float(input(\"Enter the temperature: \"))\n",
    "unit = input(\"Enter unit('C' for Celsius and 'F' for Fahrenheit): \")\n",
    "if unit=='c' or unit=='C':\n",
    "    newTemp= temp/5*9+32\n",
    "    print(\"Temperature in Fahrenheit= \", newTemp)\n",
    "elif unit=='f' or unit == 'F':\n",
    "    newTemp= (temp-32)/9*5\n",
    "    print(\"Temperature in celsuis= \", newTemp)\n",
    "else:\n",
    "    print(\"please enter vaild unit\")"
   ]
  },
  {
   "cell_type": "code",
   "execution_count": 5,
   "id": "c64d8be6",
   "metadata": {},
   "outputs": [
    {
     "name": "stdout",
     "output_type": "stream",
     "text": [
      "The pattern: \n",
      "* \n",
      "\n",
      "* * \n",
      "\n",
      "* * * \n",
      "\n",
      "* * * * \n",
      "\n",
      "* * * * * \n",
      "\n",
      "* * * * \n",
      "\n",
      "* * * \n",
      "\n",
      "* * \n",
      "\n",
      "* \n",
      "\n"
     ]
    }
   ],
   "source": [
    "print(\"The pattern: \")\n",
    "for i in range(9):\n",
    "    if i<5 :\n",
    "        for j in range(i+1):\n",
    "            print(\"*\",end=\" \")\n",
    "        print(\"\\n\")\n",
    "    elif i>=5 :\n",
    "        for j in range(9-i):\n",
    "            print(\"*\",end=\" \")\n",
    "        print(\"\\n\")\n",
    "            "
   ]
  },
  {
   "cell_type": "code",
   "execution_count": 2,
   "id": "8308fb3a",
   "metadata": {},
   "outputs": [
    {
     "name": "stdout",
     "output_type": "stream",
     "text": [
      "please enter a word: amr\n",
      "The reverse word is: rma\n"
     ]
    }
   ],
   "source": [
    "Word= input(\"please enter a word: \")\n",
    "revWord=Word[::-1]\n",
    "print(\"The reverse word is: \"+revWord)\n"
   ]
  },
  {
   "cell_type": "code",
   "execution_count": 3,
   "id": "59984629",
   "metadata": {},
   "outputs": [
    {
     "name": "stdout",
     "output_type": "stream",
     "text": [
      "the first number: 55\n",
      "the second number: 77\n",
      "the third number: 66\n",
      "The max number is the second number=  77\n"
     ]
    }
   ],
   "source": [
    "def max(first,second,third):\n",
    "    if first>second and first>third :\n",
    "        print(\"The max number is the first number= \",first)\n",
    "    elif second>first and second>third:\n",
    "        print(\"The max number is the second number= \",second)\n",
    "    elif third>first and third>second:\n",
    "        print(\"The max number is the third number= \",third)\n",
    "    elif third==first and third>second:\n",
    "        print(\"The max number is the first and the third= \",first)\n",
    "    elif third==second and third>first:\n",
    "        print(\"The max number is the second and the third= \",third)\n",
    "    elif second==first and second>third:\n",
    "        print(\"The max numberis the first and the second number= \",second)\n",
    "    elif first==second and first==third:\n",
    "        print(\"They are all equal\")\n",
    "    else:\n",
    "        print(\"Enter vaild data\")\n",
    "    \n",
    "x=input(\"the first number: \")\n",
    "y=input(\"the second number: \")\n",
    "z=input(\"the third number: \")\n",
    "max(x,y,z) "
   ]
  },
  {
   "cell_type": "markdown",
   "id": "36c07195",
   "metadata": {},
   "source": [
    "### "
   ]
  },
  {
   "cell_type": "code",
   "execution_count": 23,
   "id": "25166bb0",
   "metadata": {},
   "outputs": [
    {
     "name": "stdout",
     "output_type": "stream",
     "text": [
      "89\n"
     ]
    }
   ],
   "source": [
    "list=[33,20,15,77,4,23]\n",
    "def summ(number):\n",
    "    sum=0\n",
    "    for i in number:\n",
    "         sum+= i\n",
    "\n",
    "    return sum\n",
    "\n",
    "print(summ((list)))\n",
    "\n",
    "\n"
   ]
  },
  {
   "cell_type": "code",
   "execution_count": 2,
   "id": "d892e8f1",
   "metadata": {},
   "outputs": [
    {
     "name": "stdout",
     "output_type": "stream",
     "text": [
      "0\n",
      "1\n",
      "2\n",
      "4\n",
      "5\n"
     ]
    }
   ],
   "source": [
    "for i in range(0,6):\n",
    "    if i==3 or i==6 :\n",
    "        continue\n",
    "    \n",
    "    print(i)"
   ]
  },
  {
   "cell_type": "code",
   "execution_count": 8,
   "id": "cce86d7e",
   "metadata": {},
   "outputs": [
    {
     "name": "stdout",
     "output_type": "stream",
     "text": [
      "6\n",
      "Factorial of 6 is 720\n"
     ]
    }
   ],
   "source": [
    "def factorial(n):\n",
    "    if n < 0:\n",
    "        return 0\n",
    "    elif n == 0 or n == 1:\n",
    "        return 1\n",
    "    else:\n",
    "        fact = 1\n",
    "        while(n > 1):\n",
    "            fact *= n\n",
    "            n -= 1\n",
    "        return fact\n",
    "num =int(input());\n",
    "print(\"Factorial of\",num,\"is\",\n",
    "factorial(num))"
   ]
  },
  {
   "cell_type": "code",
   "execution_count": 11,
   "id": "31320520",
   "metadata": {},
   "outputs": [
    {
     "name": "stdout",
     "output_type": "stream",
     "text": [
      "[1, 4, 2, 3, 5, 6, 7]\n"
     ]
    }
   ],
   "source": [
    "def unique_list(numbers):\n",
    "    unique = []\n",
    "    for item in numbers :\n",
    "        if item not in unique:\n",
    "            unique.append(item)\n",
    "    return unique\n",
    "\n",
    "print(unique_list([1,4, 4,2,3,1,2,5,5,6,7,6, 3, 1, 2]))"
   ]
  },
  {
   "cell_type": "code",
   "execution_count": 12,
   "id": "5ad41dca",
   "metadata": {},
   "outputs": [
    {
     "name": "stdout",
     "output_type": "stream",
     "text": [
      "Double the number of 15 = 30\n",
      "Triple the number of 15 = 45\n",
      "Quadruple the number of 15 = 60\n",
      "Quintuple the number 15 = 75\n"
     ]
    }
   ],
   "source": [
    "def func_compute(n):\n",
    "    return lambda x : x * n\n",
    "result = func_compute(2)\n",
    "print(\"Double the number of 15 =\", result(15))\n",
    "result = func_compute(3)\n",
    "print(\"Triple the number of 15 =\", result(15))\n",
    "result = func_compute(4)\n",
    "print(\"Quadruple the number of 15 =\", result(15))\n",
    "result = func_compute(5)\n",
    "print(\"Quintuple the number 15 =\", result(15))"
   ]
  },
  {
   "cell_type": "code",
   "execution_count": null,
   "id": "91456e12",
   "metadata": {},
   "outputs": [],
   "source": []
  },
  {
   "cell_type": "code",
   "execution_count": null,
   "id": "c3fd9fe3",
   "metadata": {},
   "outputs": [],
   "source": []
  },
  {
   "cell_type": "code",
   "execution_count": null,
   "id": "8e8418a7",
   "metadata": {},
   "outputs": [],
   "source": []
  }
 ],
 "metadata": {
  "kernelspec": {
   "display_name": "Python 3 (ipykernel)",
   "language": "python",
   "name": "python3"
  },
  "language_info": {
   "codemirror_mode": {
    "name": "ipython",
    "version": 3
   },
   "file_extension": ".py",
   "mimetype": "text/x-python",
   "name": "python",
   "nbconvert_exporter": "python",
   "pygments_lexer": "ipython3",
   "version": "3.9.12"
  }
 },
 "nbformat": 4,
 "nbformat_minor": 5
}
