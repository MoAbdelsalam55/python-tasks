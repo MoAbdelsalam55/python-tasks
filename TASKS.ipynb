{
 "cells": [
  {
   "cell_type": "code",
   "execution_count": null,
   "id": "8d995efa",
   "metadata": {},
   "outputs": [],
   "source": [
    "list=[]\n",
    "for x in range(1500,2700):\n",
    "    if x%5==0 and x%7==0 :\n",
    "        list.append(str(x))\n",
    "print (list)\n",
    "        \n"
   ]
  },
  {
   "cell_type": "code",
   "execution_count": 6,
   "id": "7028eb23",
   "metadata": {},
   "outputs": [
    {
     "name": "stdout",
     "output_type": "stream",
     "text": [
      "Enter the temperature: 55\n",
      "Enter unit('C' for Celsius and 'F' for Fahrenheit): f\n",
      "Temperature in celsuis=  12.777777777777777\n"
     ]
    }
   ],
   "source": [
    "temp = float(input(\"Enter the temperature: \"))\n",
    "unit = input(\"Enter unit('C' for Celsius and 'F' for Fahrenheit): \")\n",
    "if unit=='c' or unit=='C':\n",
    "    newTemp= temp/5*9+32\n",
    "    print(\"Temperature in Fahrenheit= \", newTemp)\n",
    "elif unit=='f' or unit == 'F':\n",
    "    newTemp= (temp-32)/9*5\n",
    "    print(\"Temperature in celsuis= \", newTemp)\n",
    "else:\n",
    "    print(\"please enter vaild unit\")"
   ]
  },
  {
   "cell_type": "code",
   "execution_count": 5,
   "id": "c64d8be6",
   "metadata": {},
   "outputs": [
    {
     "name": "stdout",
     "output_type": "stream",
     "text": [
      "The pattern: \n",
      "* \n",
      "\n",
      "* * \n",
      "\n",
      "* * * \n",
      "\n",
      "* * * * \n",
      "\n",
      "* * * * * \n",
      "\n",
      "* * * * \n",
      "\n",
      "* * * \n",
      "\n",
      "* * \n",
      "\n",
      "* \n",
      "\n"
     ]
    }
   ],
   "source": [
    "print(\"The pattern: \")\n",
    "for i in range(9):\n",
    "    if i<5 :\n",
    "        for j in range(i+1):\n",
    "            print(\"*\",end=\" \")\n",
    "        print(\"\\n\")\n",
    "    elif i>=5 :\n",
    "        for j in range(9-i):\n",
    "            print(\"*\",end=\" \")\n",
    "        print(\"\\n\")\n",
    "            "
   ]
  },
  {
   "cell_type": "code",
   "execution_count": null,
   "id": "8308fb3a",
   "metadata": {},
   "outputs": [],
   "source": [
    "Word= input(\"please enter a word: \")\n",
    "revWord=Word[::-1]\n",
    "print(\"The reverse word is: \"+revWord)\n"
   ]
  },
  {
   "cell_type": "code",
   "execution_count": 3,
   "id": "59984629",
   "metadata": {},
   "outputs": [
    {
     "name": "stdout",
     "output_type": "stream",
     "text": [
      "the first number: 55\n",
      "the second number: 77\n",
      "the third number: 66\n",
      "The max number is the second number=  77\n"
     ]
    }
   ],
   "source": [
    "def max(first,second,third):\n",
    "    if first>second and first>third :\n",
    "        print(\"The max number is the first number= \",first)\n",
    "    elif second>first and second>third:\n",
    "        print(\"The max number is the second number= \",second)\n",
    "    elif third>first and third>second:\n",
    "        print(\"The max number is the third number= \",third)\n",
    "    elif third==first and third>second:\n",
    "        print(\"The max number is the first and the third= \",first)\n",
    "    elif third==second and third>first:\n",
    "        print(\"The max number is the second and the third= \",third)\n",
    "    elif second==first and second>third:\n",
    "        print(\"The max numberis the first and the second number= \",second)\n",
    "    elif first==second and first==third:\n",
    "        print(\"They are all equal\")\n",
    "    else:\n",
    "        print(\"Enter vaild data\")\n",
    "    \n",
    "x=input(\"the first number: \")\n",
    "y=input(\"the second number: \")\n",
    "z=input(\"the third number: \")\n",
    "max(x,y,z) "
   ]
  },
  {
   "cell_type": "markdown",
   "id": "36c07195",
   "metadata": {},
   "source": [
    "### "
   ]
  },
  {
   "cell_type": "code",
   "execution_count": 23,
   "id": "25166bb0",
   "metadata": {},
   "outputs": [
    {
     "name": "stdout",
     "output_type": "stream",
     "text": [
      "89\n"
     ]
    }
   ],
   "source": [
    "list=[33,20,15,77,4,23]\n",
    "def summ(number):\n",
    "    sum=0\n",
    "    for i in number:\n",
    "         sum+= i\n",
    "\n",
    "    return sum\n",
    "\n",
    "print(summ((list)))\n",
    "\n",
    "\n"
   ]
  },
  {
   "cell_type": "code",
   "execution_count": 2,
   "id": "d892e8f1",
   "metadata": {},
   "outputs": [
    {
     "name": "stdout",
     "output_type": "stream",
     "text": [
      "0\n",
      "1\n",
      "2\n",
      "4\n",
      "5\n"
     ]
    }
   ],
   "source": [
    "for i in range(0,6):\n",
    "    if i==3 or i==6 :\n",
    "        continue\n",
    "    \n",
    "    print(i)"
   ]
  },
  {
   "cell_type": "code",
   "execution_count": 16,
   "id": "cce86d7e",
   "metadata": {},
   "outputs": [
    {
     "name": "stdout",
     "output_type": "stream",
     "text": [
      "Enter a number: 5\n"
     ]
    },
    {
     "ename": "TypeError",
     "evalue": "'str' object cannot be interpreted as an integer",
     "output_type": "error",
     "traceback": [
      "\u001b[1;31m---------------------------------------------------------------------------\u001b[0m",
      "\u001b[1;31mTypeError\u001b[0m                                 Traceback (most recent call last)",
      "Input \u001b[1;32mIn [16]\u001b[0m, in \u001b[0;36m<cell line: 6>\u001b[1;34m()\u001b[0m\n\u001b[0;32m      4\u001b[0m     \u001b[38;5;28mprint\u001b[39m(\u001b[38;5;124m\"\u001b[39m\u001b[38;5;124mThe factoril is: \u001b[39m\u001b[38;5;124m\"\u001b[39m,fact)\n\u001b[0;32m      5\u001b[0m x\u001b[38;5;241m=\u001b[39m\u001b[38;5;28minput\u001b[39m(\u001b[38;5;124m\"\u001b[39m\u001b[38;5;124mEnter a number: \u001b[39m\u001b[38;5;124m\"\u001b[39m)\n\u001b[1;32m----> 6\u001b[0m \u001b[43mfact\u001b[49m\u001b[43m(\u001b[49m\u001b[43mx\u001b[49m\u001b[43m)\u001b[49m\n",
      "Input \u001b[1;32mIn [16]\u001b[0m, in \u001b[0;36mfact\u001b[1;34m(num)\u001b[0m\n\u001b[0;32m      1\u001b[0m \u001b[38;5;28;01mdef\u001b[39;00m \u001b[38;5;21mfact\u001b[39m(num):\n\u001b[1;32m----> 2\u001b[0m     \u001b[38;5;28;01mfor\u001b[39;00m i \u001b[38;5;129;01min\u001b[39;00m \u001b[38;5;28;43mrange\u001b[39;49m\u001b[43m \u001b[49m\u001b[43m(\u001b[49m\u001b[38;5;241;43m1\u001b[39;49m\u001b[43m,\u001b[49m\u001b[43mnum\u001b[49m\u001b[43m)\u001b[49m:\n\u001b[0;32m      3\u001b[0m         num\u001b[38;5;241m=\u001b[39m num\u001b[38;5;241m*\u001b[39mi\n\u001b[0;32m      4\u001b[0m     \u001b[38;5;28mprint\u001b[39m(\u001b[38;5;124m\"\u001b[39m\u001b[38;5;124mThe factoril is: \u001b[39m\u001b[38;5;124m\"\u001b[39m,fact)\n",
      "\u001b[1;31mTypeError\u001b[0m: 'str' object cannot be interpreted as an integer"
     ]
    }
   ],
   "source": [
    "def fact(num):\n",
    "    for i in range (1,num):\n",
    "        num= num*i\n",
    "    print(\"The factoril is: \",fact)\n",
    "x=input(\"Enter a number: \")\n",
    "fact(x)"
   ]
  },
  {
   "cell_type": "code",
   "execution_count": null,
   "id": "31320520",
   "metadata": {},
   "outputs": [],
   "source": []
  },
  {
   "cell_type": "code",
   "execution_count": null,
   "id": "5ad41dca",
   "metadata": {},
   "outputs": [],
   "source": []
  },
  {
   "cell_type": "code",
   "execution_count": null,
   "id": "91456e12",
   "metadata": {},
   "outputs": [],
   "source": []
  },
  {
   "cell_type": "code",
   "execution_count": null,
   "id": "c3fd9fe3",
   "metadata": {},
   "outputs": [],
   "source": []
  },
  {
   "cell_type": "code",
   "execution_count": null,
   "id": "8e8418a7",
   "metadata": {},
   "outputs": [],
   "source": []
  }
 ],
 "metadata": {
  "kernelspec": {
   "display_name": "Python 3 (ipykernel)",
   "language": "python",
   "name": "python3"
  },
  "language_info": {
   "codemirror_mode": {
    "name": "ipython",
    "version": 3
   },
   "file_extension": ".py",
   "mimetype": "text/x-python",
   "name": "python",
   "nbconvert_exporter": "python",
   "pygments_lexer": "ipython3",
   "version": "3.9.12"
  }
 },
 "nbformat": 4,
 "nbformat_minor": 5
}
